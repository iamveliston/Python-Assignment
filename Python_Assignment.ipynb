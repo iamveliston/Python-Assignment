{
 "cells": [
  {
   "cell_type": "markdown",
   "metadata": {},
   "source": [
    "# Question 1. Explain the Key features of Python that make it a Popular choice for programing.\n",
    "\n",
    "Answer:\n",
    "\n",
    "Easy to Read and Write:\n",
    "Python code looks like plain English, which makes it easy to read and write, even for beginners.\n",
    "\n",
    "Versatile: You can use Python for many different things, like web development, data analysis, artificial intelligence, and more.\n",
    "\n",
    "Lots of Built-In Tools: Python comes with many built-in tools and libraries, so you don’t have to write everything from scratch.\n",
    "\n",
    "Works on Any System: Python code can run on different operating systems like Windows, Mac, and Linux without needing changes.\n",
    "\n",
    "No Need to Compile: Python is an interpreted language, so you can run your code directly without compiling it first.\n",
    "\n",
    "Flexible with Types: You don't need to specify variable types, and you can change them easily during runtime."
   ]
  },
  {
   "cell_type": "markdown",
   "metadata": {},
   "source": [
    "# Question 2. Describe the role of predefined keyword in Python and provide examples of how they are used in a program.\n",
    "\n",
    "Answer:\n",
    "\n",
    "Predefined keywords in Python are special words that have specific meanings and uses in the language. You can't use them as names for variables or functions because they are reserved for specific tasks.\n",
    "\n",
    "Example: Control Flow Keywords"
   ]
  },
  {
   "cell_type": "code",
   "execution_count": 3,
   "metadata": {},
   "outputs": [
    {
     "name": "stdout",
     "output_type": "stream",
     "text": [
      "Number is positive\n"
     ]
    }
   ],
   "source": [
    "# if, elif, else: Used to make decisions in the code.\n",
    "\n",
    "number = 10\n",
    "if number > 0:\n",
    "    print(\"Number is positive\")\n",
    "elif x == 0:\n",
    "    print(\"Number is zero\")\n",
    "else:\n",
    "    print(\"Number is negative\")\n"
   ]
  },
  {
   "cell_type": "code",
   "execution_count": 4,
   "metadata": {},
   "outputs": [
    {
     "name": "stdout",
     "output_type": "stream",
     "text": [
      "0\n",
      "1\n",
      "2\n",
      "3\n",
      "4\n",
      "0\n",
      "1\n",
      "2\n",
      "3\n",
      "4\n"
     ]
    }
   ],
   "source": [
    "# for, while: Used to create loops.\n",
    "\n",
    "for i in range(5):\n",
    "    print(i)\n",
    "\n",
    "count = 0\n",
    "while count < 5:\n",
    "    print(count)\n",
    "    count += 1\n"
   ]
  },
  {
   "cell_type": "markdown",
   "metadata": {},
   "source": [
    "# Question 3. Compare and contrast mutable and immutable objects in Python with examples.\n",
    "\n",
    "Answer:\n",
    "\n",
    "Mutable Objects:\n",
    "\n",
    "Mutable objects are those whose state can be changed after they are created. This means you can modify their contents without creating a new object.\n",
    "\n",
    "Immutable Objects:\n",
    "\n",
    "Immutable objects are those whose state cannot be changed after they are created. Any modification to their contents results in the creation of a new object.\n"
   ]
  },
  {
   "cell_type": "markdown",
   "metadata": {},
   "source": [
    "Examples of mutable Objects:"
   ]
  },
  {
   "cell_type": "code",
   "execution_count": 10,
   "metadata": {},
   "outputs": [
    {
     "data": {
      "text/plain": [
       "[10, 2, 3]"
      ]
     },
     "execution_count": 10,
     "metadata": {},
     "output_type": "execute_result"
    }
   ],
   "source": [
    "# Example of Mutable Objects:\n",
    "\n",
    "my_list = [1, 2, 3]\n",
    "my_list[0] = 10 \n",
    "my_list"
   ]
  },
  {
   "cell_type": "code",
   "execution_count": 9,
   "metadata": {},
   "outputs": [
    {
     "data": {
      "text/plain": [
       "{'a': 10, 'b': 2}"
      ]
     },
     "execution_count": 9,
     "metadata": {},
     "output_type": "execute_result"
    }
   ],
   "source": [
    "# Example of Mutable Objects:\n",
    "\n",
    "my_dict = {'a': 1, 'b': 2}\n",
    "my_dict['a'] = 10  \n",
    "my_dict"
   ]
  },
  {
   "cell_type": "code",
   "execution_count": 8,
   "metadata": {},
   "outputs": [
    {
     "data": {
      "text/plain": [
       "{1, 2, 3, 4}"
      ]
     },
     "execution_count": 8,
     "metadata": {},
     "output_type": "execute_result"
    }
   ],
   "source": [
    "# Example of Mutable Objects:\n",
    "\n",
    "my_set = {1, 2, 3}\n",
    "my_set.add(4) \n",
    "my_set"
   ]
  },
  {
   "cell_type": "markdown",
   "metadata": {},
   "source": [
    "Examples of Immutable Objects:"
   ]
  },
  {
   "cell_type": "code",
   "execution_count": 19,
   "metadata": {},
   "outputs": [
    {
     "data": {
      "text/plain": [
       "'Vello'"
      ]
     },
     "execution_count": 19,
     "metadata": {},
     "output_type": "execute_result"
    }
   ],
   "source": [
    "# Example of Immutable Objects:\n",
    "\n",
    "my_string = \"hello\"\n",
    "new_string = my_string.replace('h', 'V') \n",
    "my_string\n",
    "new_string "
   ]
  },
  {
   "cell_type": "code",
   "execution_count": 17,
   "metadata": {},
   "outputs": [
    {
     "ename": "TypeError",
     "evalue": "'tuple' object does not support item assignment",
     "output_type": "error",
     "traceback": [
      "\u001b[1;31m---------------------------------------------------------------------------\u001b[0m",
      "\u001b[1;31mTypeError\u001b[0m                                 Traceback (most recent call last)",
      "Cell \u001b[1;32mIn[17], line 4\u001b[0m\n\u001b[0;32m      1\u001b[0m \u001b[38;5;66;03m# Example of Immutable Objects:\u001b[39;00m\n\u001b[0;32m      3\u001b[0m my_tuple \u001b[38;5;241m=\u001b[39m (\u001b[38;5;241m1\u001b[39m, \u001b[38;5;241m2\u001b[39m, \u001b[38;5;241m3\u001b[39m)\n\u001b[1;32m----> 4\u001b[0m \u001b[43mmy_tuple\u001b[49m\u001b[43m[\u001b[49m\u001b[38;5;241;43m0\u001b[39;49m\u001b[43m]\u001b[49m \u001b[38;5;241m=\u001b[39m \u001b[38;5;241m7\u001b[39m\n\u001b[0;32m      5\u001b[0m \u001b[38;5;66;03m# This will raise error because tuples are immutable\u001b[39;00m\n",
      "\u001b[1;31mTypeError\u001b[0m: 'tuple' object does not support item assignment"
     ]
    }
   ],
   "source": [
    "# Example of Immutable Objects:\n",
    "\n",
    "my_tuple = (1, 2, 3)\n",
    "my_tuple[0] = 7\n",
    "# This will raise error because tuples are immutable"
   ]
  },
  {
   "cell_type": "markdown",
   "metadata": {},
   "source": [
    "# Question 4. Discus the different types of operators in Python and provide examples of how they are used.\n",
    "\n",
    "Answer:\n",
    "\n",
    "Python operators are special symbols or keywords used to perform operations on variables and values."
   ]
  },
  {
   "cell_type": "markdown",
   "metadata": {},
   "source": [
    "a) Arithmetic Operators:\n",
    " \n",
    "Arithmetic operators are used to perform basic mathematical operations."
   ]
  },
  {
   "cell_type": "code",
   "execution_count": 35,
   "metadata": {},
   "outputs": [
    {
     "name": "stdout",
     "output_type": "stream",
     "text": [
      "Number1:  7\n",
      "Number2:  3\n",
      "\n",
      "Operaations on Number1 and Number2:\n",
      "\n",
      "Addition :  10\n",
      "Subtraction :  4\n",
      "Multiplication :  21\n",
      "Division :  2.3333333333333335\n",
      "Floor_Division :  2\n",
      "Modulus :  1\n",
      "Exponentiation :  343\n"
     ]
    }
   ],
   "source": [
    "num1 = 7\n",
    "num2 = 3\n",
    "\n",
    "addition = num1 + num2\n",
    "\n",
    "subtraction = num1 - num2\n",
    "\n",
    "multiplication = num1 * num2\n",
    "\n",
    "division = num1 / num2\n",
    "\n",
    "floor_Division = num1 // num2\n",
    "\n",
    "modulus = num1 % num2\n",
    "\n",
    "exponentiation = num1 ** num2\n",
    "\n",
    "print(\"Number1: \",num1)\n",
    "print(\"Number2: \",num2)\n",
    "print(\"\\nOperaations on Number1 and Number2:\\n\")\n",
    "\n",
    "print(\"Addition : \",addition)\n",
    "print(\"Subtraction : \",subtraction)\n",
    "print(\"Multiplication : \",multiplication)\n",
    "print(\"Division : \",division)\n",
    "print(\"Floor_Division : \",floor_Division)\n",
    "print(\"Modulus : \",modulus)\n",
    "print(\"Exponentiation : \",exponentiation)\n"
   ]
  },
  {
   "cell_type": "markdown",
   "metadata": {},
   "source": [
    "b) Comparison Operators:\n",
    "\n",
    "Comparison operators are used to compare two values. They return True or False."
   ]
  },
  {
   "cell_type": "code",
   "execution_count": 51,
   "metadata": {},
   "outputs": [
    {
     "name": "stdout",
     "output_type": "stream",
     "text": [
      "Value of X is  5\n",
      "Value of Y is  3\n",
      "\n",
      "Operaations on X and Y:\n",
      "\n",
      "Equal to (==):\n",
      "False\n",
      "\n",
      "\n",
      "Not equal to (!=):\n",
      "True\n",
      "\n",
      "\n",
      "Greater than (>):\n",
      "True\n",
      "\n",
      "\n",
      "Less than (<):\n",
      "False\n",
      "\n",
      "\n",
      "Greater than or equal to (>=):\n",
      "True\n",
      "\n",
      "\n",
      "Less than or equal to (<=):\n",
      "False\n"
     ]
    }
   ],
   "source": [
    "x = 5\n",
    "y = 3\n",
    "\n",
    "print(\"Value of X is \", x)\n",
    "print(\"Value of Y is \", y)\n",
    "\n",
    "print(\"\\nOperaations on X and Y:\\n\")\n",
    "\n",
    "print(\"Equal to (==):\")\n",
    "print(x == y)\n",
    "\n",
    "print(\"\\n\")\n",
    "\n",
    "print(\"Not equal to (!=):\")\n",
    "print(x != y)\n",
    "\n",
    "print(\"\\n\")\n",
    "\n",
    "print(\"Greater than (>):\")\n",
    "print(x > y)\n",
    "\n",
    "print(\"\\n\")\n",
    "\n",
    "print(\"Less than (<):\")\n",
    "print(x < y)\n",
    "\n",
    "print(\"\\n\")\n",
    "\n",
    "print(\"Greater than or equal to (>=):\")\n",
    "print(x >= y)\n",
    "\n",
    "print(\"\\n\")\n",
    "\n",
    "print(\"Less than or equal to (<=):\")\n",
    "print(x <= y)\n"
   ]
  },
  {
   "cell_type": "markdown",
   "metadata": {},
   "source": [
    "c) Logical Operators:\n",
    "\n",
    "Logical operators are used to combine conditional statements. (and , or and not)"
   ]
  },
  {
   "cell_type": "code",
   "execution_count": 53,
   "metadata": {},
   "outputs": [
    {
     "name": "stdout",
     "output_type": "stream",
     "text": [
      "Value of X is  5\n",
      "Value of Y is  3\n",
      "\n",
      "Operaations on X and Y:\n",
      "\n",
      "and:\n",
      "True\n",
      "\n",
      "\n",
      "or:\n",
      "True\n",
      "\n",
      "\n",
      "not:\n",
      "False\n"
     ]
    }
   ],
   "source": [
    "x = 5\n",
    "y = 3\n",
    "\n",
    "print(\"Value of X is \", x)\n",
    "print(\"Value of Y is \", y)\n",
    "\n",
    "print(\"\\nOperaations on X and Y:\\n\")\n",
    "\n",
    "print(\"and:\")\n",
    "print(x > 2 and y < 5)\n",
    "\n",
    "print(\"\\n\")\n",
    "\n",
    "print(\"or:\")\n",
    "print(x > 2 or y > 5)\n",
    "\n",
    "print(\"\\n\")\n",
    "\n",
    "print(\"not:\")\n",
    "print(not(x > 2))\n"
   ]
  },
  {
   "cell_type": "markdown",
   "metadata": {},
   "source": [
    "d) Assignment Operators:\n",
    "\n",
    "Assignment operators are used to assign values to variables."
   ]
  },
  {
   "cell_type": "code",
   "execution_count": 54,
   "metadata": {},
   "outputs": [],
   "source": [
    "# Simple assignment (=):\n",
    "z = 10"
   ]
  },
  {
   "cell_type": "code",
   "execution_count": 55,
   "metadata": {},
   "outputs": [
    {
     "data": {
      "text/plain": [
       "15"
      ]
     },
     "execution_count": 55,
     "metadata": {},
     "output_type": "execute_result"
    }
   ],
   "source": [
    "# Add and assign (+=):\n",
    "z += 5\n",
    "z"
   ]
  },
  {
   "cell_type": "code",
   "execution_count": 56,
   "metadata": {},
   "outputs": [
    {
     "data": {
      "text/plain": [
       "12"
      ]
     },
     "execution_count": 56,
     "metadata": {},
     "output_type": "execute_result"
    }
   ],
   "source": [
    "# Subtract and assign (-=):\n",
    "z -= 3\n",
    "z"
   ]
  },
  {
   "cell_type": "code",
   "execution_count": 57,
   "metadata": {},
   "outputs": [
    {
     "data": {
      "text/plain": [
       "24"
      ]
     },
     "execution_count": 57,
     "metadata": {},
     "output_type": "execute_result"
    }
   ],
   "source": [
    "# Multiply and assign (*=):\n",
    "z *= 2\n",
    "z"
   ]
  },
  {
   "cell_type": "code",
   "execution_count": 58,
   "metadata": {},
   "outputs": [
    {
     "data": {
      "text/plain": [
       "6.0"
      ]
     },
     "execution_count": 58,
     "metadata": {},
     "output_type": "execute_result"
    }
   ],
   "source": [
    "# Divide and assign (/=):\n",
    "z /= 4\n",
    "z"
   ]
  },
  {
   "cell_type": "code",
   "execution_count": 59,
   "metadata": {},
   "outputs": [
    {
     "data": {
      "text/plain": [
       "3.0"
      ]
     },
     "execution_count": 59,
     "metadata": {},
     "output_type": "execute_result"
    }
   ],
   "source": [
    "# Floor divide and assign (//=):\n",
    "z //= 2 \n",
    "z"
   ]
  },
  {
   "cell_type": "code",
   "execution_count": 60,
   "metadata": {},
   "outputs": [
    {
     "data": {
      "text/plain": [
       "1.0"
      ]
     },
     "execution_count": 60,
     "metadata": {},
     "output_type": "execute_result"
    }
   ],
   "source": [
    "# Modulus and assign (%=):\n",
    "z %= 2\n",
    "z"
   ]
  },
  {
   "cell_type": "code",
   "execution_count": 61,
   "metadata": {},
   "outputs": [
    {
     "data": {
      "text/plain": [
       "1.0"
      ]
     },
     "execution_count": 61,
     "metadata": {},
     "output_type": "execute_result"
    }
   ],
   "source": [
    "# Exponent and assign (=)**:\n",
    "z **= 3\n",
    "z"
   ]
  },
  {
   "cell_type": "markdown",
   "metadata": {},
   "source": [
    "e) Bitwise Operators:\n",
    "\n",
    "Bitwise operators are used to perform bit-level operations."
   ]
  },
  {
   "cell_type": "code",
   "execution_count": 68,
   "metadata": {},
   "outputs": [
    {
     "name": "stdout",
     "output_type": "stream",
     "text": [
      "AND (&):\n",
      "1\n",
      "OR (|):\n",
      "7\n",
      "XOR (^)\n",
      "6\n",
      "NOT (~):\n",
      "-6\n",
      "Left Shift (<<):\n",
      "10\n",
      "Right Shift (>>):\n",
      "2\n"
     ]
    }
   ],
   "source": [
    "print(\"AND (&):\")\n",
    "print(5 & 3)\n",
    "\n",
    "print(\"OR (|):\")\n",
    "print(5 | 3)\n",
    "\n",
    "print(\"XOR (^)\")\n",
    "print(5 ^ 3)\n",
    "\n",
    "print(\"NOT (~):\")\n",
    "print(~5)\n",
    "\n",
    "print(\"Left Shift (<<):\")\n",
    "print(5 << 1)\n",
    "\n",
    "print(\"Right Shift (>>):\")\n",
    "print(5 >> 1)\n",
    "\n"
   ]
  },
  {
   "cell_type": "markdown",
   "metadata": {},
   "source": [
    "f) Membership Operators:\n",
    "\n",
    "Membership operators are used to test if a sequence contains an element."
   ]
  },
  {
   "cell_type": "code",
   "execution_count": 70,
   "metadata": {},
   "outputs": [
    {
     "name": "stdout",
     "output_type": "stream",
     "text": [
      "True\n"
     ]
    }
   ],
   "source": [
    "# in\n",
    "\n",
    "cars = [\"Toyota\",\"BMW\",\"Ferrari\"]\n",
    "\n",
    "print(\"Ferrari\" in cars)"
   ]
  },
  {
   "cell_type": "code",
   "execution_count": 71,
   "metadata": {},
   "outputs": [
    {
     "name": "stdout",
     "output_type": "stream",
     "text": [
      "True\n"
     ]
    }
   ],
   "source": [
    "# not in\n",
    "\n",
    "colors = [\"blue\",\"green\",\"red\"]\n",
    "\n",
    "print(\"yellow\" not in colors)"
   ]
  },
  {
   "cell_type": "markdown",
   "metadata": {},
   "source": [
    "g) Identity Operators:\n",
    "\n",
    "Identity operators are used to compare the memory locations of two objects.\n",
    "\n"
   ]
  },
  {
   "cell_type": "code",
   "execution_count": 73,
   "metadata": {},
   "outputs": [
    {
     "name": "stdout",
     "output_type": "stream",
     "text": [
      "True\n"
     ]
    }
   ],
   "source": [
    "# is \n",
    "\n",
    "a = [1, 2, 3]\n",
    "b = a\n",
    "print(a is b)"
   ]
  },
  {
   "cell_type": "code",
   "execution_count": 74,
   "metadata": {},
   "outputs": [
    {
     "name": "stdout",
     "output_type": "stream",
     "text": [
      "False\n"
     ]
    }
   ],
   "source": [
    "# is not\n",
    "\n",
    "a = [1, 2, 3]\n",
    "b = a\n",
    "print(a is not b)"
   ]
  },
  {
   "cell_type": "markdown",
   "metadata": {},
   "source": [
    "# Question 5. Explain the concept of type casting in Python with examples.\n",
    "\n",
    "Answer:\n",
    "\n",
    "Type casting in Python means converting a variable from one type to another.\n",
    "\n"
   ]
  },
  {
   "cell_type": "markdown",
   "metadata": {},
   "source": [
    "a) Implicit Type Conversion (Automatic):\n",
    "\n",
    "Python automatically converts data types in certain situations, such as when performing operations between different types."
   ]
  },
  {
   "cell_type": "code",
   "execution_count": 75,
   "metadata": {},
   "outputs": [
    {
     "name": "stdout",
     "output_type": "stream",
     "text": [
      "results in Float:\n",
      "7.5\n"
     ]
    }
   ],
   "source": [
    "a = 5  \n",
    "b = 2.5  \n",
    "\n",
    "result = a + b \n",
    "print(\"results in Float:\") \n",
    "print(result)"
   ]
  },
  {
   "cell_type": "markdown",
   "metadata": {},
   "source": [
    "b) Explicit Type Conversion (Manual):\n",
    "\n",
    "Explicit type conversion is when you manually convert a variable from one type to another using built-in functions like int(), float(), str(), etc."
   ]
  },
  {
   "cell_type": "code",
   "execution_count": 76,
   "metadata": {},
   "outputs": [
    {
     "data": {
      "text/plain": [
       "10"
      ]
     },
     "execution_count": 76,
     "metadata": {},
     "output_type": "execute_result"
    }
   ],
   "source": [
    "# Converting to Integer \n",
    "\n",
    "num_str = \"10\"\n",
    "num_int = int(num_str)\n",
    "num_int"
   ]
  },
  {
   "cell_type": "code",
   "execution_count": 77,
   "metadata": {},
   "outputs": [
    {
     "data": {
      "text/plain": [
       "5.0"
      ]
     },
     "execution_count": 77,
     "metadata": {},
     "output_type": "execute_result"
    }
   ],
   "source": [
    "# Converting to Float\n",
    "\n",
    "num_int = 5\n",
    "num_float = float(num_int)\n",
    "num_float"
   ]
  },
  {
   "cell_type": "code",
   "execution_count": 78,
   "metadata": {},
   "outputs": [
    {
     "data": {
      "text/plain": [
       "'5'"
      ]
     },
     "execution_count": 78,
     "metadata": {},
     "output_type": "execute_result"
    }
   ],
   "source": [
    "# Converting to String\n",
    "\n",
    "num_int = 5\n",
    "num_str = str(num_int)\n",
    "num_str"
   ]
  },
  {
   "cell_type": "code",
   "execution_count": 79,
   "metadata": {},
   "outputs": [
    {
     "data": {
      "text/plain": [
       "False"
      ]
     },
     "execution_count": 79,
     "metadata": {},
     "output_type": "execute_result"
    }
   ],
   "source": [
    "# Converting to Boolean\n",
    "\n",
    "val = 0\n",
    "bool_val = bool(val)\n",
    "bool_val\n"
   ]
  },
  {
   "cell_type": "code",
   "execution_count": 80,
   "metadata": {},
   "outputs": [
    {
     "data": {
      "text/plain": [
       "3"
      ]
     },
     "execution_count": 80,
     "metadata": {},
     "output_type": "execute_result"
    }
   ],
   "source": [
    "# Converting from Float to Integer\n",
    "\n",
    "num_float = 3.7\n",
    "num_int = int(num_float)\n",
    "num_int"
   ]
  },
  {
   "cell_type": "markdown",
   "metadata": {},
   "source": [
    "# Question 6. How do conditional statements work in Python? Illustrate with examples.\n",
    "\n",
    "Answer:\n",
    "\n",
    "Conditional statements in Python allow you to make decisions in your code based on certain conditions. The conditions evaluate to either True or False."
   ]
  },
  {
   "cell_type": "markdown",
   "metadata": {},
   "source": [
    "a) if Statement:\n",
    "\n",
    "The if statement checks a condition and executes a block of code if the condition is True."
   ]
  },
  {
   "cell_type": "code",
   "execution_count": 81,
   "metadata": {},
   "outputs": [
    {
     "name": "stdout",
     "output_type": "stream",
     "text": [
      "x is positive\n"
     ]
    }
   ],
   "source": [
    "x = 5\n",
    "\n",
    "if x > 0:\n",
    "    print(\"x is positive\")\n"
   ]
  },
  {
   "cell_type": "markdown",
   "metadata": {},
   "source": [
    "b) if-else Statement:\n",
    "\n",
    "The if-else statement checks a condition and executes one block of code if the condition is True, and another block if the condition is False."
   ]
  },
  {
   "cell_type": "code",
   "execution_count": 82,
   "metadata": {},
   "outputs": [
    {
     "name": "stdout",
     "output_type": "stream",
     "text": [
      "x is not positive\n"
     ]
    }
   ],
   "source": [
    "x = -2\n",
    "\n",
    "if x > 0:\n",
    "    print(\"x is positive\")\n",
    "else:\n",
    "    print(\"x is not positive\")\n"
   ]
  },
  {
   "cell_type": "markdown",
   "metadata": {},
   "source": [
    "c) if-elif-else Statement:\n",
    "\n",
    "The if-elif-else statement allows you to check multiple conditions sequentially. It executes the first block of code where the condition is True, or the else block if none of the conditions are True."
   ]
  },
  {
   "cell_type": "code",
   "execution_count": 84,
   "metadata": {},
   "outputs": [
    {
     "name": "stdout",
     "output_type": "stream",
     "text": [
      "Number is zero\n"
     ]
    }
   ],
   "source": [
    "num = -7\n",
    "\n",
    "if num > 0:\n",
    "    print(\"Number is positive\")\n",
    "elif x == 0:\n",
    "    print(\"Number is zero\")\n",
    "else:\n",
    "    print(\"Number is negative\")\n"
   ]
  },
  {
   "cell_type": "markdown",
   "metadata": {},
   "source": [
    "# Question 7. Describe the different types of loops in Python and their use cases with examples.\n",
    "\n",
    "Answer:\n",
    "\n",
    " Loops are used to execute a block of code repeatedly as long as a specified condition is True. \n",
    " \n",
    " There are two main types of loops: \n",
    "  for loops and while loops.\n"
   ]
  },
  {
   "cell_type": "markdown",
   "metadata": {},
   "source": [
    "a) for Loop:\n",
    "\n",
    "Used to iterate over a sequence (like a list, tuple, string, or range) and execute a block of code for each item in the sequence."
   ]
  },
  {
   "cell_type": "code",
   "execution_count": 85,
   "metadata": {},
   "outputs": [
    {
     "name": "stdout",
     "output_type": "stream",
     "text": [
      "apple\n",
      "banana\n",
      "cherry\n"
     ]
    }
   ],
   "source": [
    "# example \n",
    "\n",
    "fruits = [\"apple\", \"banana\", \"cherry\"]\n",
    "\n",
    "for fruit in fruits:\n",
    "    print(fruit)\n"
   ]
  },
  {
   "cell_type": "markdown",
   "metadata": {},
   "source": [
    "b) while Loop:\n",
    "\n",
    "Executes a block of code repeatedly as long as a specified condition is True."
   ]
  },
  {
   "cell_type": "code",
   "execution_count": 86,
   "metadata": {},
   "outputs": [
    {
     "name": "stdout",
     "output_type": "stream",
     "text": [
      "1\n",
      "2\n",
      "3\n",
      "4\n",
      "5\n"
     ]
    }
   ],
   "source": [
    "# example \n",
    "\n",
    "count = 1\n",
    "while count <= 5:\n",
    "    print(count)\n",
    "    count += 1\n"
   ]
  }
 ],
 "metadata": {
  "kernelspec": {
   "display_name": "Python 3",
   "language": "python",
   "name": "python3"
  },
  "language_info": {
   "codemirror_mode": {
    "name": "ipython",
    "version": 3
   },
   "file_extension": ".py",
   "mimetype": "text/x-python",
   "name": "python",
   "nbconvert_exporter": "python",
   "pygments_lexer": "ipython3",
   "version": "3.12.2"
  }
 },
 "nbformat": 4,
 "nbformat_minor": 2
}
